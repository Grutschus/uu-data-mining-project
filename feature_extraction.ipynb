{
 "cells": [
  {
   "cell_type": "markdown",
   "metadata": {},
   "source": [
    "# Data preprocessing"
   ]
  },
  {
   "cell_type": "markdown",
   "metadata": {},
   "source": [
    "## Import the required modules"
   ]
  },
  {
   "cell_type": "code",
   "execution_count": 2,
   "metadata": {},
   "outputs": [],
   "source": [
    "import pandas as pd\n",
    "import dask.dataframe as dd\n",
    "import numpy as np\n",
    "from pathlib import Path"
   ]
  },
  {
   "cell_type": "markdown",
   "metadata": {},
   "source": [
    "## Load the dataset\n",
    "1. Load the dataset\n",
    "2. Convert it into a pandas DataFrame"
   ]
  },
  {
   "cell_type": "code",
   "execution_count": 3,
   "metadata": {},
   "outputs": [],
   "source": [
    "dataset_raw = dd.read_parquet('dataset/dataset_raw.parquet')"
   ]
  },
  {
   "cell_type": "code",
   "execution_count": 4,
   "metadata": {},
   "outputs": [],
   "source": [
    "dataset_pd = pd.DataFrame(dataset_raw.compute())"
   ]
  },
  {
   "cell_type": "markdown",
   "metadata": {},
   "source": [
    "## Defining the target variable\n",
    "1. Analyzing the citation count distribution\n",
    "2. Group citations into categories\n",
    "3. Create ordinal target variable"
   ]
  },
  {
   "cell_type": "code",
   "execution_count": 24,
   "metadata": {},
   "outputs": [
    {
     "name": "stdout",
     "output_type": "stream",
     "text": [
      "Descriptive statistics:\n",
      "count    573904.000000\n",
      "mean         30.975079\n",
      "std         143.814509\n",
      "min           0.000000\n",
      "25%           3.000000\n",
      "50%          10.000000\n",
      "75%          28.000000\n",
      "max       50051.000000\n",
      "Name: citation_count, dtype: float64\n",
      "\n",
      "Number of elements between 0 and 5: 185354\n",
      "Number of elements between 5 and 10: 95357\n",
      "Number of elements between 10 and 20: 103529\n",
      "Number of elements between 20 and 50: 110197\n",
      "Number of elements between 50 and 100: 46671\n",
      "Number of elements between 100 and 500: 30038\n",
      "Number of elements between 500 and 1000: 1909\n",
      "Number of elements between 1000 and 5000: 781\n",
      "Number of elements between 5000 and 10000: 55\n",
      "Number of elements between 10000 and 100000: 13\n"
     ]
    }
   ],
   "source": [
    "print(\"Descriptive statistics:\")\n",
    "print(dataset_pd['citation_count'].describe())\n",
    "print(\"\")\n",
    "\n",
    "count_ranges = [(0, 5), (5, 10), (10, 20), (20, 50), (50, 100), (100, 500), (500, 1000), (1000, 5000), (5000, 10000), (10000, 100000)]\n",
    "for count_range in count_ranges:\n",
    "    print(f\"Number of elements between {count_range[0]} and {count_range[1]}: {len(dataset_pd[(dataset_pd['citation_count'] >= count_range[0]) & (dataset_pd['citation_count'] < count_range[1])])}\")"
   ]
  },
  {
   "cell_type": "code",
   "execution_count": 20,
   "metadata": {},
   "outputs": [
    {
     "data": {
      "text/plain": [
       "<Axes: title={'center': 'Citation Count Distribution'}, ylabel='Frequency'>"
      ]
     },
     "execution_count": 20,
     "metadata": {},
     "output_type": "execute_result"
    },
    {
     "data": {
      "image/png": "[encoded data removed]",
      "text/plain": [
       "<Figure size 1000x500 with 1 Axes>"
      ]
     },
     "metadata": {},
     "output_type": "display_data"
    }
   ],
   "source": [
    "dataset_pd['citation_count'].plot(kind='hist', bins=100, logy=True, figsize=(10, 5), title='Citation Count Distribution')"
   ]
  },
  {
   "cell_type": "markdown",
   "metadata": {},
   "source": [
    "## Feature Extraction\n",
    "1. Extracting page count and number of figures\n",
    "2. Extracting the number of authors\n",
    "3. "
   ]
  },
  {
   "cell_type": "code",
   "execution_count": null,
   "metadata": {},
   "outputs": [],
   "source": []
  },
  {
   "cell_type": "markdown",
   "metadata": {},
   "source": [
    "## Data cleaning\n",
    "\n",
    "1. Remove duplicates\n",
    "2. Deal with outliers\n",
    "3. Deal with missing data\n",
    "4. ..."
   ]
  },
  {
   "cell_type": "code",
   "execution_count": null,
   "metadata": {},
   "outputs": [],
   "source": []
  },
  {
   "cell_type": "markdown",
   "metadata": {},
   "source": [
    "## Textual Data processing\n",
    "\n",
    "1. Tokenization\n",
    "2. Stopword removal\n",
    "3. Stemming\n",
    "4. Lemmatization\n",
    "5. Vectorization"
   ]
  },
  {
   "cell_type": "code",
   "execution_count": null,
   "metadata": {},
   "outputs": [],
   "source": []
  },
  {
   "cell_type": "markdown",
   "metadata": {},
   "source": [
    "## Feature Selection and dimensionality reduction\n",
    "Analyze the data!\n"
   ]
  },
  {
   "cell_type": "code",
   "execution_count": null,
   "metadata": {},
   "outputs": [],
   "source": []
  },
  {
   "cell_type": "markdown",
   "metadata": {},
   "source": [
    "## Model training and evaluation\n",
    "\n",
    "1. Split data into train, val and test set\n",
    "2. Select appropriate model candidates\n",
    "3. Train models, evaluate them\n",
    "4. Select best model\n",
    "5. Perform hyperparameter tuning"
   ]
  },
  {
   "cell_type": "code",
   "execution_count": null,
   "metadata": {},
   "outputs": [],
   "source": []
  }
 ],
 "metadata": {
  "kernelspec": {
   "display_name": "ai_env",
   "language": "python",
   "name": "python3"
  },
  "language_info": {
   "codemirror_mode": {
    "name": "ipython",
    "version": 3
   },
   "file_extension": ".py",
   "mimetype": "text/x-python",
   "name": "python",
   "nbconvert_exporter": "python",
   "pygments_lexer": "ipython3",
   "version": "3.11.4"
  },
  "orig_nbformat": 4
 },
 "nbformat": 4,
 "nbformat_minor": 2
}
